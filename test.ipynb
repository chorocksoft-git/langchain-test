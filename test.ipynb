{
 "cells": [
  {
   "cell_type": "code",
   "execution_count": 1,
   "metadata": {},
   "outputs": [],
   "source": [
    "from langchain_community.utilities import SerpAPIWrapper"
   ]
  },
  {
   "cell_type": "code",
   "execution_count": 16,
   "metadata": {},
   "outputs": [],
   "source": [
    "# google 뉴스 검색\n",
    "params = {\"engine\": \"google\", \"gl\": \"kr\", \"hl\": \"ko\", \"num\": \"3\"}  # 검색 파라미터\n",
    "\n",
    "\n",
    "# naver 뉴스 검색\n",
    "# params = {\"engine\": \"naver\", \"query\": \"김도영\"}  # 검색 파라미터\n",
    "search = SerpAPIWrapper(params=params)  # 검색 객체 생성ㅠ"
   ]
  },
  {
   "cell_type": "code",
   "execution_count": 17,
   "metadata": {},
   "outputs": [
    {
     "data": {
      "text/plain": [
       "[{'title': '\"김도영은 계속 잘 할 수밖에 없다\"···왜? KBO 레전드 타자 3인이 답했다[스경x분석]',\n",
       "  'link': 'https://sports.news.nate.com/view/20250120n30322',\n",
       "  'source': '네이트 스포츠',\n",
       "  'date': '21시간 전',\n",
       "  'thumbnail': 'https://serpapi.com/searches/678f288a13429933ebc3f3ef/images/6bc677f1e4d166a215582873fd357e441aefc24ed92fcc65.jpeg'},\n",
       " {'title': '김도영 5억 터치? 박찬호 4억 이상? 보상 장벽은 어떻게? 흥미진진 KIA 협상, 구단 머리 터지겠네',\n",
       "  'link': 'https://sporki.com/kbaseball/news/2150068',\n",
       "  'source': '스포키',\n",
       "  'date': '2일 전',\n",
       "  'thumbnail': 'https://serpapi.com/searches/678f288a13429933ebc3f3ef/images/6bc677f1e4d166a209172ef4f6efcc66f67dc92ea6a997d2.jpeg'},\n",
       " {'title': \"[포토] 변준형 '김도영 나와'\",\n",
       "  'link': 'https://news.mt.co.kr/mtview.php?no=2025011914085638355',\n",
       "  'source': '머니투데이',\n",
       "  'date': '1일 전',\n",
       "  'thumbnail': 'https://serpapi.com/searches/678f288a13429933ebc3f3ef/images/6bc677f1e4d166a27330b7584970991bca5fb81c6eecfffb.jpeg'},\n",
       " {'title': '[SW인터뷰] ‘벌크업+이중키킹’ 이 악문 원상현 “김도영-김택연 보며 자극 받아”',\n",
       "  'link': 'https://www.sportsworldi.com/view/20250120521332',\n",
       "  'source': '- 스포츠월드 -',\n",
       "  'date': '14시간 전',\n",
       "  'thumbnail': 'https://serpapi.com/searches/678f288a13429933ebc3f3ef/images/6bc677f1e4d166a2cd329f497aed35746796427834de9972.jpeg'}]"
      ]
     },
     "execution_count": 17,
     "metadata": {},
     "output_type": "execute_result"
    }
   ],
   "source": [
    "search.run(\"김도영\")"
   ]
  },
  {
   "cell_type": "code",
   "execution_count": 5,
   "metadata": {},
   "outputs": [],
   "source": [
    "search_result = search.run(\n",
    "    \"올해 김도영이 기록 달성에 성공한 기록이 뭐가 있어?\"\n",
    ")  # 검색 실행\n",
    "# search_result = eval(search_result)  # list 형태로 변환"
   ]
  },
  {
   "cell_type": "code",
   "execution_count": 7,
   "metadata": {},
   "outputs": [],
   "source": [
    "search_result = eval(search_result)"
   ]
  },
  {
   "cell_type": "code",
   "execution_count": 9,
   "metadata": {},
   "outputs": [
    {
     "data": {
      "text/plain": [
       "'KBO리그 역대 9번째로 30홈런-30도루를 달성한 김도영은 역대 최연소·최소경기 30홈런-30도루, 역대 최다득점 신기록, 역대 최초 월간 10홈런-10도루, ...'"
      ]
     },
     "execution_count": 9,
     "metadata": {},
     "output_type": "execute_result"
    }
   ],
   "source": [
    "search_result[0]"
   ]
  },
  {
   "cell_type": "code",
   "execution_count": 20,
   "metadata": {},
   "outputs": [
    {
     "data": {
      "text/plain": [
       "{'search_metadata': {'id': '678f30aba27ce04accf89e34',\n",
       "  'status': 'Success',\n",
       "  'json_endpoint': 'https://serpapi.com/searches/d64d9d00bf3e25c4/678f30aba27ce04accf89e34.json',\n",
       "  'created_at': '2025-01-21 05:29:15 UTC',\n",
       "  'processed_at': '2025-01-21 05:29:15 UTC',\n",
       "  'google_url': 'https://www.google.com/search?q=%EC%9D%B4%EB%B2%88+%EC%8B%9C%EC%A6%8C+FA+%EC%9E%90%EA%B2%A9%EC%9D%84+%EC%96%BB%EC%9D%80+%EC%84%A0%EC%88%98+%EB%AA%85%EB%8B%A8%EC%9D%80+%EB%88%84%EA%B5%AC%EC%95%BC%3F&oq=%EC%9D%B4%EB%B2%88+%EC%8B%9C%EC%A6%8C+FA+%EC%9E%90%EA%B2%A9%EC%9D%84+%EC%96%BB%EC%9D%80+%EC%84%A0%EC%88%98+%EB%AA%85%EB%8B%A8%EC%9D%80+%EB%88%84%EA%B5%AC%EC%95%BC%3F&num=1&sourceid=chrome&ie=UTF-8',\n",
       "  'raw_html_file': 'https://serpapi.com/searches/d64d9d00bf3e25c4/678f30aba27ce04accf89e34.html',\n",
       "  'total_time_taken': 4.35},\n",
       " 'search_parameters': {'engine': 'google',\n",
       "  'q': '이번 시즌 FA 자격을 얻은 선수 명단은 누구야?',\n",
       "  'google_domain': 'google.com',\n",
       "  'num': '1',\n",
       "  'device': 'desktop'},\n",
       " 'search_information': {'query_displayed': '이번 시즌 FA 자격을 얻은 선수 명단은 누구야?',\n",
       "  'total_results': 30000,\n",
       "  'time_taken_displayed': 0.25,\n",
       "  'organic_results_state': 'Results for exact spelling'},\n",
       " 'organic_results': [{'position': 1,\n",
       "   'title': '프로야구 FA 자격 획득 30명…투수 엄상백·최원태·장현식 주목',\n",
       "   'link': 'https://sports.news.nate.com/view/20241102n05811',\n",
       "   'redirect_link': 'https://www.google.com/url?sa=t&source=web&rct=j&opi=89978449&url=https://sports.news.nate.com/view/20241102n05811&ved=2ahUKEwis0onFioaLAxWEMlkFHXvCK3EQFnoECCAQAQ',\n",
       "   'displayed_link': 'https://sports.news.nate.com › view',\n",
       "   'favicon': 'https://serpapi.com/searches/678f30aba27ce04accf89e34/images/ab0caeb7f23f3c29e28c39a9d3b01354bbe271627b5d0db206f6759273f1e0dd.png',\n",
       "   'date': 'Nov 2, 2024',\n",
       "   'snippet': \"프로야구 FA 자격 획득 30명…투수 엄상백·최원태·장현식 주목 ... 총 30명의 선수가 2025 한국프로야구 자유계약선수(FA) 자격을 얻었습니다. KBO는 2일 ' ...\",\n",
       "   'snippet_highlighted_words': ['FA', '선수', '선수', 'FA', '자격을 얻었'],\n",
       "   'source': '네이트 스포츠'}],\n",
       " 'related_searches': [{'block_position': 1,\n",
       "   'query': '프로야구 fa 명단',\n",
       "   'link': 'https://www.google.com/search?num=1&sca_esv=a47a5816891b9334&q=%ED%94%84%EB%A1%9C%EC%95%BC%EA%B5%AC+fa+%EB%AA%85%EB%8B%A8&sa=X&ved=2ahUKEwis0onFioaLAxWEMlkFHXvCK3EQ1QJ6BAgSEAE',\n",
       "   'serpapi_link': 'https://serpapi.com/search.json?device=desktop&engine=google&google_domain=google.com&num=1&q=%ED%94%84%EB%A1%9C%EC%95%BC%EA%B5%AC+fa+%EB%AA%85%EB%8B%A8'},\n",
       "  {'block_position': 1,\n",
       "   'query': '자유계약선수제도',\n",
       "   'link': 'https://www.google.com/search?num=1&sca_esv=a47a5816891b9334&q=%EC%9E%90%EC%9C%A0%EA%B3%84%EC%95%BD%EC%84%A0%EC%88%98%EC%A0%9C%EB%8F%84&sa=X&ved=2ahUKEwis0onFioaLAxWEMlkFHXvCK3EQ1QJ6BAgREAE',\n",
       "   'serpapi_link': 'https://serpapi.com/search.json?device=desktop&engine=google&google_domain=google.com&num=1&q=%EC%9E%90%EC%9C%A0%EA%B3%84%EC%95%BD%EC%84%A0%EC%88%98%EC%A0%9C%EB%8F%84'},\n",
       "  {'block_position': 1,\n",
       "   'query': '야구 선수 옵션',\n",
       "   'link': 'https://www.google.com/search?num=1&sca_esv=a47a5816891b9334&q=%EC%95%BC%EA%B5%AC+%EC%84%A0%EC%88%98+%EC%98%B5%EC%85%98&sa=X&ved=2ahUKEwis0onFioaLAxWEMlkFHXvCK3EQ1QJ6BAgQEAE',\n",
       "   'serpapi_link': 'https://serpapi.com/search.json?device=desktop&engine=google&google_domain=google.com&num=1&q=%EC%95%BC%EA%B5%AC+%EC%84%A0%EC%88%98+%EC%98%B5%EC%85%98'},\n",
       "  {'block_position': 1,\n",
       "   'query': '두산 보상선수',\n",
       "   'link': 'https://www.google.com/search?num=1&sca_esv=a47a5816891b9334&q=%EB%91%90%EC%82%B0+%EB%B3%B4%EC%83%81%EC%84%A0%EC%88%98&sa=X&ved=2ahUKEwis0onFioaLAxWEMlkFHXvCK3EQ1QJ6BAgWEAE',\n",
       "   'serpapi_link': 'https://serpapi.com/search.json?device=desktop&engine=google&google_domain=google.com&num=1&q=%EB%91%90%EC%82%B0+%EB%B3%B4%EC%83%81%EC%84%A0%EC%88%98'},\n",
       "  {'block_position': 1,\n",
       "   'query': '25야구fa',\n",
       "   'link': 'https://www.google.com/search?num=1&sca_esv=a47a5816891b9334&q=25%EC%95%BC%EA%B5%ACfa&sa=X&ved=2ahUKEwis0onFioaLAxWEMlkFHXvCK3EQ1QJ6BAgUEAE',\n",
       "   'serpapi_link': 'https://serpapi.com/search.json?device=desktop&engine=google&google_domain=google.com&num=1&q=25%EC%95%BC%EA%B5%ACfa'},\n",
       "  {'block_position': 1,\n",
       "   'query': '최정 다년 계약',\n",
       "   'link': 'https://www.google.com/search?num=1&sca_esv=a47a5816891b9334&q=%EC%B5%9C%EC%A0%95+%EB%8B%A4%EB%85%84+%EA%B3%84%EC%95%BD&sa=X&ved=2ahUKEwis0onFioaLAxWEMlkFHXvCK3EQ1QJ6BAgXEAE',\n",
       "   'serpapi_link': 'https://serpapi.com/search.json?device=desktop&engine=google&google_domain=google.com&num=1&q=%EC%B5%9C%EC%A0%95+%EB%8B%A4%EB%85%84+%EA%B3%84%EC%95%BD'},\n",
       "  {'block_position': 1,\n",
       "   'query': '보호선수 뜻',\n",
       "   'link': 'https://www.google.com/search?num=1&sca_esv=a47a5816891b9334&q=%EB%B3%B4%ED%98%B8%EC%84%A0%EC%88%98+%EB%9C%BB&sa=X&ved=2ahUKEwis0onFioaLAxWEMlkFHXvCK3EQ1QJ6BAgTEAE',\n",
       "   'serpapi_link': 'https://serpapi.com/search.json?device=desktop&engine=google&google_domain=google.com&num=1&q=%EB%B3%B4%ED%98%B8%EC%84%A0%EC%88%98+%EB%9C%BB'},\n",
       "  {'block_position': 1,\n",
       "   'query': '야구 선수 계약금',\n",
       "   'link': 'https://www.google.com/search?num=1&sca_esv=a47a5816891b9334&q=%EC%95%BC%EA%B5%AC+%EC%84%A0%EC%88%98+%EA%B3%84%EC%95%BD%EA%B8%88&sa=X&ved=2ahUKEwis0onFioaLAxWEMlkFHXvCK3EQ1QJ6BAgVEAE',\n",
       "   'serpapi_link': 'https://serpapi.com/search.json?device=desktop&engine=google&google_domain=google.com&num=1&q=%EC%95%BC%EA%B5%AC+%EC%84%A0%EC%88%98+%EA%B3%84%EC%95%BD%EA%B8%88'}],\n",
       " 'pagination': {'current': 1,\n",
       "  'next': 'https://www.google.com/search?q=%EC%9D%B4%EB%B2%88+%EC%8B%9C%EC%A6%8C+FA+%EC%9E%90%EA%B2%A9%EC%9D%84+%EC%96%BB%EC%9D%80+%EC%84%A0%EC%88%98+%EB%AA%85%EB%8B%A8%EC%9D%80+%EB%88%84%EA%B5%AC%EC%95%BC?&num=1&sca_esv=a47a5816891b9334&ei=rzCPZ-y-IITl5NoP-4SviQc&start=1&sa=N&sstk=ATObxK7j5Opl8rw0lOJy5jbx_c9655KZqNH1j7UlQuBtqabKYOVNZNMpurlSZVKm4-ZwQq1XOC7ox8fjhXcEBr0dDqydVOQ6tQgHJg&ved=2ahUKEwis0onFioaLAxWEMlkFHXvCK3EQ8NMDegQICxAW',\n",
       "  'other_pages': {'2': 'https://www.google.com/search?q=%EC%9D%B4%EB%B2%88+%EC%8B%9C%EC%A6%8C+FA+%EC%9E%90%EA%B2%A9%EC%9D%84+%EC%96%BB%EC%9D%80+%EC%84%A0%EC%88%98+%EB%AA%85%EB%8B%A8%EC%9D%80+%EB%88%84%EA%B5%AC%EC%95%BC?&num=1&sca_esv=a47a5816891b9334&ei=rzCPZ-y-IITl5NoP-4SviQc&start=1&sa=N&sstk=ATObxK7j5Opl8rw0lOJy5jbx_c9655KZqNH1j7UlQuBtqabKYOVNZNMpurlSZVKm4-ZwQq1XOC7ox8fjhXcEBr0dDqydVOQ6tQgHJg&ved=2ahUKEwis0onFioaLAxWEMlkFHXvCK3EQ8tMDegQICxAE',\n",
       "   '3': 'https://www.google.com/search?q=%EC%9D%B4%EB%B2%88+%EC%8B%9C%EC%A6%8C+FA+%EC%9E%90%EA%B2%A9%EC%9D%84+%EC%96%BB%EC%9D%80+%EC%84%A0%EC%88%98+%EB%AA%85%EB%8B%A8%EC%9D%80+%EB%88%84%EA%B5%AC%EC%95%BC?&num=1&sca_esv=a47a5816891b9334&ei=rzCPZ-y-IITl5NoP-4SviQc&start=2&sa=N&sstk=ATObxK7j5Opl8rw0lOJy5jbx_c9655KZqNH1j7UlQuBtqabKYOVNZNMpurlSZVKm4-ZwQq1XOC7ox8fjhXcEBr0dDqydVOQ6tQgHJg&ved=2ahUKEwis0onFioaLAxWEMlkFHXvCK3EQ8tMDegQICxAG',\n",
       "   '4': 'https://www.google.com/search?q=%EC%9D%B4%EB%B2%88+%EC%8B%9C%EC%A6%8C+FA+%EC%9E%90%EA%B2%A9%EC%9D%84+%EC%96%BB%EC%9D%80+%EC%84%A0%EC%88%98+%EB%AA%85%EB%8B%A8%EC%9D%80+%EB%88%84%EA%B5%AC%EC%95%BC?&num=1&sca_esv=a47a5816891b9334&ei=rzCPZ-y-IITl5NoP-4SviQc&start=3&sa=N&sstk=ATObxK7j5Opl8rw0lOJy5jbx_c9655KZqNH1j7UlQuBtqabKYOVNZNMpurlSZVKm4-ZwQq1XOC7ox8fjhXcEBr0dDqydVOQ6tQgHJg&ved=2ahUKEwis0onFioaLAxWEMlkFHXvCK3EQ8tMDegQICxAI',\n",
       "   '5': 'https://www.google.com/search?q=%EC%9D%B4%EB%B2%88+%EC%8B%9C%EC%A6%8C+FA+%EC%9E%90%EA%B2%A9%EC%9D%84+%EC%96%BB%EC%9D%80+%EC%84%A0%EC%88%98+%EB%AA%85%EB%8B%A8%EC%9D%80+%EB%88%84%EA%B5%AC%EC%95%BC?&num=1&sca_esv=a47a5816891b9334&ei=rzCPZ-y-IITl5NoP-4SviQc&start=4&sa=N&sstk=ATObxK7j5Opl8rw0lOJy5jbx_c9655KZqNH1j7UlQuBtqabKYOVNZNMpurlSZVKm4-ZwQq1XOC7ox8fjhXcEBr0dDqydVOQ6tQgHJg&ved=2ahUKEwis0onFioaLAxWEMlkFHXvCK3EQ8tMDegQICxAK',\n",
       "   '6': 'https://www.google.com/search?q=%EC%9D%B4%EB%B2%88+%EC%8B%9C%EC%A6%8C+FA+%EC%9E%90%EA%B2%A9%EC%9D%84+%EC%96%BB%EC%9D%80+%EC%84%A0%EC%88%98+%EB%AA%85%EB%8B%A8%EC%9D%80+%EB%88%84%EA%B5%AC%EC%95%BC?&num=1&sca_esv=a47a5816891b9334&ei=rzCPZ-y-IITl5NoP-4SviQc&start=5&sa=N&sstk=ATObxK7j5Opl8rw0lOJy5jbx_c9655KZqNH1j7UlQuBtqabKYOVNZNMpurlSZVKm4-ZwQq1XOC7ox8fjhXcEBr0dDqydVOQ6tQgHJg&ved=2ahUKEwis0onFioaLAxWEMlkFHXvCK3EQ8tMDegQICxAM',\n",
       "   '7': 'https://www.google.com/search?q=%EC%9D%B4%EB%B2%88+%EC%8B%9C%EC%A6%8C+FA+%EC%9E%90%EA%B2%A9%EC%9D%84+%EC%96%BB%EC%9D%80+%EC%84%A0%EC%88%98+%EB%AA%85%EB%8B%A8%EC%9D%80+%EB%88%84%EA%B5%AC%EC%95%BC?&num=1&sca_esv=a47a5816891b9334&ei=rzCPZ-y-IITl5NoP-4SviQc&start=6&sa=N&sstk=ATObxK7j5Opl8rw0lOJy5jbx_c9655KZqNH1j7UlQuBtqabKYOVNZNMpurlSZVKm4-ZwQq1XOC7ox8fjhXcEBr0dDqydVOQ6tQgHJg&ved=2ahUKEwis0onFioaLAxWEMlkFHXvCK3EQ8tMDegQICxAO',\n",
       "   '8': 'https://www.google.com/search?q=%EC%9D%B4%EB%B2%88+%EC%8B%9C%EC%A6%8C+FA+%EC%9E%90%EA%B2%A9%EC%9D%84+%EC%96%BB%EC%9D%80+%EC%84%A0%EC%88%98+%EB%AA%85%EB%8B%A8%EC%9D%80+%EB%88%84%EA%B5%AC%EC%95%BC?&num=1&sca_esv=a47a5816891b9334&ei=rzCPZ-y-IITl5NoP-4SviQc&start=7&sa=N&sstk=ATObxK7j5Opl8rw0lOJy5jbx_c9655KZqNH1j7UlQuBtqabKYOVNZNMpurlSZVKm4-ZwQq1XOC7ox8fjhXcEBr0dDqydVOQ6tQgHJg&ved=2ahUKEwis0onFioaLAxWEMlkFHXvCK3EQ8tMDegQICxAQ',\n",
       "   '9': 'https://www.google.com/search?q=%EC%9D%B4%EB%B2%88+%EC%8B%9C%EC%A6%8C+FA+%EC%9E%90%EA%B2%A9%EC%9D%84+%EC%96%BB%EC%9D%80+%EC%84%A0%EC%88%98+%EB%AA%85%EB%8B%A8%EC%9D%80+%EB%88%84%EA%B5%AC%EC%95%BC?&num=1&sca_esv=a47a5816891b9334&ei=rzCPZ-y-IITl5NoP-4SviQc&start=8&sa=N&sstk=ATObxK7j5Opl8rw0lOJy5jbx_c9655KZqNH1j7UlQuBtqabKYOVNZNMpurlSZVKm4-ZwQq1XOC7ox8fjhXcEBr0dDqydVOQ6tQgHJg&ved=2ahUKEwis0onFioaLAxWEMlkFHXvCK3EQ8tMDegQICxAS',\n",
       "   '10': 'https://www.google.com/search?q=%EC%9D%B4%EB%B2%88+%EC%8B%9C%EC%A6%8C+FA+%EC%9E%90%EA%B2%A9%EC%9D%84+%EC%96%BB%EC%9D%80+%EC%84%A0%EC%88%98+%EB%AA%85%EB%8B%A8%EC%9D%80+%EB%88%84%EA%B5%AC%EC%95%BC?&num=1&sca_esv=a47a5816891b9334&ei=rzCPZ-y-IITl5NoP-4SviQc&start=9&sa=N&sstk=ATObxK7j5Opl8rw0lOJy5jbx_c9655KZqNH1j7UlQuBtqabKYOVNZNMpurlSZVKm4-ZwQq1XOC7ox8fjhXcEBr0dDqydVOQ6tQgHJg&ved=2ahUKEwis0onFioaLAxWEMlkFHXvCK3EQ8tMDegQICxAU'}},\n",
       " 'serpapi_pagination': {'current': 1,\n",
       "  'next_link': 'https://serpapi.com/search.json?device=desktop&engine=google&google_domain=google.com&num=1&q=%EC%9D%B4%EB%B2%88+%EC%8B%9C%EC%A6%8C+FA+%EC%9E%90%EA%B2%A9%EC%9D%84+%EC%96%BB%EC%9D%80+%EC%84%A0%EC%88%98+%EB%AA%85%EB%8B%A8%EC%9D%80+%EB%88%84%EA%B5%AC%EC%95%BC%3F&start=1',\n",
       "  'next': 'https://serpapi.com/search.json?device=desktop&engine=google&google_domain=google.com&num=1&q=%EC%9D%B4%EB%B2%88+%EC%8B%9C%EC%A6%8C+FA+%EC%9E%90%EA%B2%A9%EC%9D%84+%EC%96%BB%EC%9D%80+%EC%84%A0%EC%88%98+%EB%AA%85%EB%8B%A8%EC%9D%80+%EB%88%84%EA%B5%AC%EC%95%BC%3F&start=1',\n",
       "  'other_pages': {'2': 'https://serpapi.com/search.json?device=desktop&engine=google&google_domain=google.com&num=1&q=%EC%9D%B4%EB%B2%88+%EC%8B%9C%EC%A6%8C+FA+%EC%9E%90%EA%B2%A9%EC%9D%84+%EC%96%BB%EC%9D%80+%EC%84%A0%EC%88%98+%EB%AA%85%EB%8B%A8%EC%9D%80+%EB%88%84%EA%B5%AC%EC%95%BC%3F&start=1',\n",
       "   '3': 'https://serpapi.com/search.json?device=desktop&engine=google&google_domain=google.com&num=1&q=%EC%9D%B4%EB%B2%88+%EC%8B%9C%EC%A6%8C+FA+%EC%9E%90%EA%B2%A9%EC%9D%84+%EC%96%BB%EC%9D%80+%EC%84%A0%EC%88%98+%EB%AA%85%EB%8B%A8%EC%9D%80+%EB%88%84%EA%B5%AC%EC%95%BC%3F&start=2',\n",
       "   '4': 'https://serpapi.com/search.json?device=desktop&engine=google&google_domain=google.com&num=1&q=%EC%9D%B4%EB%B2%88+%EC%8B%9C%EC%A6%8C+FA+%EC%9E%90%EA%B2%A9%EC%9D%84+%EC%96%BB%EC%9D%80+%EC%84%A0%EC%88%98+%EB%AA%85%EB%8B%A8%EC%9D%80+%EB%88%84%EA%B5%AC%EC%95%BC%3F&start=3',\n",
       "   '5': 'https://serpapi.com/search.json?device=desktop&engine=google&google_domain=google.com&num=1&q=%EC%9D%B4%EB%B2%88+%EC%8B%9C%EC%A6%8C+FA+%EC%9E%90%EA%B2%A9%EC%9D%84+%EC%96%BB%EC%9D%80+%EC%84%A0%EC%88%98+%EB%AA%85%EB%8B%A8%EC%9D%80+%EB%88%84%EA%B5%AC%EC%95%BC%3F&start=4',\n",
       "   '6': 'https://serpapi.com/search.json?device=desktop&engine=google&google_domain=google.com&num=1&q=%EC%9D%B4%EB%B2%88+%EC%8B%9C%EC%A6%8C+FA+%EC%9E%90%EA%B2%A9%EC%9D%84+%EC%96%BB%EC%9D%80+%EC%84%A0%EC%88%98+%EB%AA%85%EB%8B%A8%EC%9D%80+%EB%88%84%EA%B5%AC%EC%95%BC%3F&start=5',\n",
       "   '7': 'https://serpapi.com/search.json?device=desktop&engine=google&google_domain=google.com&num=1&q=%EC%9D%B4%EB%B2%88+%EC%8B%9C%EC%A6%8C+FA+%EC%9E%90%EA%B2%A9%EC%9D%84+%EC%96%BB%EC%9D%80+%EC%84%A0%EC%88%98+%EB%AA%85%EB%8B%A8%EC%9D%80+%EB%88%84%EA%B5%AC%EC%95%BC%3F&start=6',\n",
       "   '8': 'https://serpapi.com/search.json?device=desktop&engine=google&google_domain=google.com&num=1&q=%EC%9D%B4%EB%B2%88+%EC%8B%9C%EC%A6%8C+FA+%EC%9E%90%EA%B2%A9%EC%9D%84+%EC%96%BB%EC%9D%80+%EC%84%A0%EC%88%98+%EB%AA%85%EB%8B%A8%EC%9D%80+%EB%88%84%EA%B5%AC%EC%95%BC%3F&start=7',\n",
       "   '9': 'https://serpapi.com/search.json?device=desktop&engine=google&google_domain=google.com&num=1&q=%EC%9D%B4%EB%B2%88+%EC%8B%9C%EC%A6%8C+FA+%EC%9E%90%EA%B2%A9%EC%9D%84+%EC%96%BB%EC%9D%80+%EC%84%A0%EC%88%98+%EB%AA%85%EB%8B%A8%EC%9D%80+%EB%88%84%EA%B5%AC%EC%95%BC%3F&start=8',\n",
       "   '10': 'https://serpapi.com/search.json?device=desktop&engine=google&google_domain=google.com&num=1&q=%EC%9D%B4%EB%B2%88+%EC%8B%9C%EC%A6%8C+FA+%EC%9E%90%EA%B2%A9%EC%9D%84+%EC%96%BB%EC%9D%80+%EC%84%A0%EC%88%98+%EB%AA%85%EB%8B%A8%EC%9D%80+%EB%88%84%EA%B5%AC%EC%95%BC%3F&start=9'}}}"
      ]
     },
     "execution_count": 20,
     "metadata": {},
     "output_type": "execute_result"
    }
   ],
   "source": [
    "# google ai overview > 안됨\n",
    "params = {\"engine\": \"google\", \"num\": 1}  # 검색 파라미터\n",
    "search = SerpAPIWrapper(params=params)  # 검색 객체 생성ㅠ\n",
    "search.results(\"이번 시즌 FA 자격을 얻은 선수 명단은 누구야?\")"
   ]
  },
  {
   "cell_type": "code",
   "execution_count": null,
   "metadata": {},
   "outputs": [],
   "source": []
  },
  {
   "cell_type": "code",
   "execution_count": null,
   "metadata": {},
   "outputs": [],
   "source": []
  },
  {
   "cell_type": "code",
   "execution_count": 22,
   "metadata": {},
   "outputs": [],
   "source": [
    "examples = [\n",
    "    # 예측\n",
    "    {\n",
    "        \"question\": \"오늘 경기 결과를 예측해줘\",\n",
    "        \"answer\": \"예측\",\n",
    "    },\n",
    "    {\n",
    "        \"question\": \"이번 한국시리즈 우승 가능성이 가장 높은 팀은 어디야?\",\n",
    "        \"answer\": \"예측\",\n",
    "    },\n",
    "    # 시즌 통계\n",
    "    {\n",
    "        \"question\": \"이번 시즌에서 가장 타율이 높은 선수는 누구야?\",\n",
    "        \"answer\": \"시즌 통계\",\n",
    "    },\n",
    "    {\n",
    "        \"question\": \"OOO선수 이번시즌 홈런 몇 개 쳤어?\",\n",
    "        \"answer\": \"시즌 통계\",\n",
    "    },\n",
    "    {\n",
    "        \"question\": \"이번 시즌에서 가장 많이 홈런을 친 선수는 누구야?\",\n",
    "        \"answer\": \"시즌 통계\",\n",
    "    },\n",
    "    # 미래 경기 일정\n",
    "    {\n",
    "        \"question\": \"a팀의 다음 경기는 언제야?\",\n",
    "        \"answer\": \"미래 경기 일정\",\n",
    "    },\n",
    "    {\n",
    "        \"question\": \"a팀하고 b팀이 언제 다시 붙어?\",\n",
    "        \"answer\": \"미래 경기 일정\",\n",
    "    },\n",
    "    # 선수 출전 여부\n",
    "    {\n",
    "        \"question\": \"OOO이 오늘 경기에서 선발로 나올까?\",\n",
    "        \"answer\": \"선수 출전 여부\",\n",
    "    },\n",
    "    {\n",
    "        \"question\": \"오늘 c팀의 선발 투수는 누구야?\",\n",
    "        \"answer\": \"선수 출전 여부\",\n",
    "    },\n",
    "    # 과거 경기 정보\n",
    "    {\n",
    "        \"question\": \"어제 경기에서 d팀의 주요 하이라이트는 뭐였어?\",\n",
    "        \"answer\": \"과거 경기 정보\",\n",
    "    },\n",
    "    {\n",
    "        \"question\": \"최근 5경기 동안 e팀의 성적이 어땠어?\",\n",
    "        \"answer\": \"과거 경기 정보\",\n",
    "    },\n",
    "    # 기타\n",
    "    # 스토브리그\n",
    "]"
   ]
  },
  {
   "cell_type": "code",
   "execution_count": 23,
   "metadata": {},
   "outputs": [],
   "source": [
    "from langchain_core.example_selectors import (\n",
    "    MaxMarginalRelevanceExampleSelector,\n",
    "    SemanticSimilarityExampleSelector,\n",
    ")\n",
    "from langchain_openai import OpenAIEmbeddings\n",
    "from langchain_chroma import Chroma\n",
    "from langchain_core.prompts import FewShotPromptTemplate, PromptTemplate\n",
    "\n",
    "# Vector DB 생성 (저장소 이름, 임베딩 클래스)\n",
    "chroma = Chroma(\"example_selector\", OpenAIEmbeddings())\n",
    "\n",
    "example_prompt = PromptTemplate.from_template(\n",
    "    \"Question:\\n{question}\\nAnswer:\\n{answer}\"\n",
    ")\n",
    "\n",
    "example_selector = SemanticSimilarityExampleSelector.from_examples(\n",
    "    # 여기에는 선택 가능한 예시 목록이 있습니다.\n",
    "    examples,\n",
    "    # 여기에는 의미적 유사성을 측정하는 데 사용되는 임베딩을 생성하는 임베딩 클래스가 있습니다.\n",
    "    OpenAIEmbeddings(),\n",
    "    # 여기에는 임베딩을 저장하고 유사성 검색을 수행하는 데 사용되는 VectorStore 클래스가 있습니다.\n",
    "    Chroma,\n",
    "    # 이것은 생성할 예시의 수입니다.\n",
    "    k=1,\n",
    ")\n",
    "\n",
    "\n",
    "prompt = FewShotPromptTemplate(\n",
    "    example_selector=example_selector,\n",
    "    example_prompt=example_prompt,\n",
    "    suffix=\"Question:\\n{question}\\nAnswer:\",\n",
    "    input_variables=[\"question\"],\n",
    ")"
   ]
  },
  {
   "cell_type": "code",
   "execution_count": 24,
   "metadata": {},
   "outputs": [],
   "source": [
    "from langchain_openai import ChatOpenAI\n",
    "\n",
    "# 객체 생성\n",
    "llm = ChatOpenAI(\n",
    "    model_name=\"gpt-4o-mini\",\n",
    "    temperature=0,\n",
    ")"
   ]
  },
  {
   "cell_type": "code",
   "execution_count": 73,
   "metadata": {},
   "outputs": [],
   "source": [
    "from langchain.output_parsers import EnumOutputParser, PydanticOutputParser\n",
    "from pydantic import BaseModel, Field\n",
    "from typing import List, Optional\n",
    "from enum import Enum\n",
    "\n",
    "\n",
    "# Define question types using Enum\n",
    "class QuestionType(Enum):\n",
    "    GAME_PREDICTION = \"game_prediction\"  # 경기 예측\n",
    "    PLAYER_STATS = \"player_stats\"  # 선수 기록\n",
    "    GAME_SCHEDULE = \"game_schedule\"  # 경기 일정\n",
    "    GAME_RESULTS = \"game_results\"  # 과거 경기 성적\n",
    "    LINEUP_INFO = \"lineup_info\"  # 라인업 및 선수 상태\n",
    "    TEAM_STRATEGY = \"team_strategy\"  # 팀 전략 및 트레이드\n",
    "    RULES_EXPLANATION = \"rules_explanation\"  # 규정 및 기타 설명\n",
    "    NEWS_HIGHLIGHTS = \"news_highlights\"  # 뉴스/하이라이트\n",
    "    HISTORY_RECORDS = \"history_records\"  # 역사 및 기록\n",
    "\n",
    "\n",
    "# Define a Pydantic model for the data required for each question type\n",
    "class QuestionData(BaseModel):\n",
    "    question_type: QuestionType\n",
    "    teams: Optional[List[str]] = Field(default=None, description=\"경기 관련 팀 이름\")  #\n",
    "    player_name: Optional[str] = Field(default=None, description=\"특정 선수 이름\")\n",
    "    date: Optional[str] = Field(default=None, description=\"경기 날짜 (YYYY-MM-DD)\")\n",
    "    season: Optional[str] = Field(default=None, description=\"시즌 정보 (YYYY)\")\n",
    "    stats_type: Optional[str] = Field(\n",
    "        default=None, description=\"통계 유형 (득점, 도움 등)\"\n",
    "    )\n",
    "    location: Optional[str] = Field(default=None, description=\"경기 장소 (홈/원정)\")\n",
    "    context: Optional[str] = Field(\n",
    "        default=None,\n",
    "        description=\"질문을 이해하는 데 필요한 추가적인 맥락. 없으면 None을 반환.\",\n",
    "    )\n",
    "\n",
    "\n",
    "parser = PydanticOutputParser(pydantic_object=QuestionData)"
   ]
  },
  {
   "cell_type": "code",
   "execution_count": 74,
   "metadata": {},
   "outputs": [
    {
     "name": "stdout",
     "output_type": "stream",
     "text": [
      "The output should be formatted as a JSON instance that conforms to the JSON schema below.\n",
      "\n",
      "As an example, for the schema {\"properties\": {\"foo\": {\"title\": \"Foo\", \"description\": \"a list of strings\", \"type\": \"array\", \"items\": {\"type\": \"string\"}}}, \"required\": [\"foo\"]}\n",
      "the object {\"foo\": [\"bar\", \"baz\"]} is a well-formatted instance of the schema. The object {\"properties\": {\"foo\": [\"bar\", \"baz\"]}} is not well-formatted.\n",
      "\n",
      "Here is the output schema:\n",
      "```\n",
      "{\"$defs\": {\"QuestionType\": {\"enum\": [\"game_prediction\", \"player_stats\", \"game_schedule\", \"game_results\", \"lineup_info\", \"team_strategy\", \"rules_explanation\", \"news_highlights\", \"history_records\"], \"title\": \"QuestionType\", \"type\": \"string\"}}, \"properties\": {\"question_type\": {\"$ref\": \"#/$defs/QuestionType\"}, \"teams\": {\"anyOf\": [{\"items\": {\"type\": \"string\"}, \"type\": \"array\"}, {\"type\": \"null\"}], \"default\": null, \"description\": \"경기 관련 팀 이름\", \"title\": \"Teams\"}, \"player_name\": {\"anyOf\": [{\"type\": \"string\"}, {\"type\": \"null\"}], \"default\": null, \"description\": \"특정 선수 이름\", \"title\": \"Player Name\"}, \"date\": {\"anyOf\": [{\"type\": \"string\"}, {\"type\": \"null\"}], \"default\": null, \"description\": \"경기 날짜 (YYYY-MM-DD)\", \"title\": \"Date\"}, \"season\": {\"anyOf\": [{\"type\": \"string\"}, {\"type\": \"null\"}], \"default\": null, \"description\": \"시즌 정보 (YYYY)\", \"title\": \"Season\"}, \"stats_type\": {\"anyOf\": [{\"type\": \"string\"}, {\"type\": \"null\"}], \"default\": null, \"description\": \"통계 유형 (득점, 도움 등)\", \"title\": \"Stats Type\"}, \"location\": {\"anyOf\": [{\"type\": \"string\"}, {\"type\": \"null\"}], \"default\": null, \"description\": \"경기 장소 (홈/원정)\", \"title\": \"Location\"}, \"context\": {\"anyOf\": [{\"type\": \"string\"}, {\"type\": \"null\"}], \"default\": null, \"description\": \"질문을 이해하는 데 필요한 추가적인 맥락. 없으면 None을 반환.\", \"title\": \"Context\"}}, \"required\": [\"question_type\"]}\n",
      "```\n"
     ]
    }
   ],
   "source": [
    "print(parser.get_format_instructions())"
   ]
  },
  {
   "cell_type": "code",
   "execution_count": 75,
   "metadata": {},
   "outputs": [],
   "source": [
    "prompt = PromptTemplate.from_template(\n",
    "    \"\"\"\n",
    "You are a helpful assistant. Please answer the following questions in KOREAN.\n",
    "\n",
    "QUESTION:\n",
    "{question}\n",
    "\n",
    "FORMAT:\n",
    "{format}\n",
    "\"\"\"\n",
    ")\n",
    "\n",
    "# format 에 PydanticOutputParser의 부분 포맷팅(partial) 추가\n",
    "prompt = prompt.partial(format=parser.get_format_instructions())"
   ]
  },
  {
   "cell_type": "code",
   "execution_count": 76,
   "metadata": {},
   "outputs": [],
   "source": [
    "chain = prompt | llm | parser"
   ]
  },
  {
   "cell_type": "code",
   "execution_count": 77,
   "metadata": {},
   "outputs": [],
   "source": [
    "# chain 을 실행하고 결과를 출력합니다.\n",
    "question_list = [\n",
    "        {\"question\": \"a팀하고 b팀이 언제 다시 붙어?\"},\n",
    "        {\"question\": \"오늘 경기 결과를 예측해줘\"},\n",
    "        {\"question\": \"오늘 LG 트윈스와 두산 베어스의 경기 결과를 예측해줘.\"},\n",
    "        {\"question\": \"이번 한국시리즈 우승 가능성이 가장 높은 팀은 어디야?\"},\n",
    "        {\"question\": \"이번 시즌에서 가장 타율이 높은 선수는 누구야\"},\n",
    "        {\"question\": \"최정 이번시즌 홈런 몇 개 쳤어?\"},\n",
    "        {\"question\": \"한화의 다음 경기는 언제야?\"},\n",
    "        {\"question\": \"오늘 두산 선발투수 누구야?\"},\n",
    "        {\"question\": \"최근 5경기 동안 SSG 랜더스의 성적이 어땠어?\"},\n",
    "        {\"question\": \"어제 경기에서 키움 히어로즈의 주요 하이라이트는 뭐였어?\"},\n",
    "        {\"question\": \"비 오는 날 경기가 어떻게 진행되는지 알려줘.\"},\n",
    "    ]\n",
    "response = chain.batch(question_list)"
   ]
  },
  {
   "cell_type": "code",
   "execution_count": 78,
   "metadata": {},
   "outputs": [
    {
     "name": "stdout",
     "output_type": "stream",
     "text": [
      "a팀하고 b팀이 언제 다시 붙어?\n",
      "('question_type', <QuestionType.GAME_SCHEDULE: 'game_schedule'>)\n",
      "('teams', ['a팀', 'b팀'])\n",
      "\n",
      "오늘 경기 결과를 예측해줘\n",
      "('question_type', <QuestionType.GAME_PREDICTION: 'game_prediction'>)\n",
      "('teams', ['팀A', '팀B'])\n",
      "('date', '2023-10-01')\n",
      "\n",
      "오늘 LG 트윈스와 두산 베어스의 경기 결과를 예측해줘.\n",
      "('question_type', <QuestionType.GAME_PREDICTION: 'game_prediction'>)\n",
      "('teams', ['LG 트윈스', '두산 베어스'])\n",
      "\n",
      "이번 한국시리즈 우승 가능성이 가장 높은 팀은 어디야?\n",
      "('question_type', <QuestionType.GAME_PREDICTION: 'game_prediction'>)\n",
      "('teams', ['삼성 라이온즈', 'LG 트윈스', '키움 히어로즈'])\n",
      "('context', '현재 시즌 성적과 선수들의 컨디션을 고려했을 때.')\n",
      "\n",
      "이번 시즌에서 가장 타율이 높은 선수는 누구야\n",
      "('question_type', <QuestionType.PLAYER_STATS: 'player_stats'>)\n",
      "('season', '2023')\n",
      "('stats_type', '타율')\n",
      "\n",
      "최정 이번시즌 홈런 몇 개 쳤어?\n",
      "('question_type', <QuestionType.PLAYER_STATS: 'player_stats'>)\n",
      "('player_name', '최정')\n",
      "('stats_type', '홈런')\n",
      "\n",
      "한화의 다음 경기는 언제야?\n",
      "('question_type', <QuestionType.GAME_SCHEDULE: 'game_schedule'>)\n",
      "\n",
      "오늘 두산 선발투수 누구야?\n",
      "('question_type', <QuestionType.GAME_SCHEDULE: 'game_schedule'>)\n",
      "('teams', ['두산'])\n",
      "\n",
      "최근 5경기 동안 SSG 랜더스의 성적이 어땠어?\n",
      "('question_type', <QuestionType.GAME_RESULTS: 'game_results'>)\n",
      "('teams', ['SSG 랜더스'])\n",
      "('context', '최근 5경기 동안 SSG 랜더스의 성적에 대한 정보입니다.')\n",
      "\n",
      "어제 경기에서 키움 히어로즈의 주요 하이라이트는 뭐였어?\n",
      "('question_type', <QuestionType.NEWS_HIGHLIGHTS: 'news_highlights'>)\n",
      "('teams', ['키움 히어로즈'])\n",
      "('date', '2023-10-02')\n",
      "('context', '어제 경기에서 키움 히어로즈의 주요 하이라이트에 대한 정보입니다.')\n",
      "\n",
      "비 오는 날 경기가 어떻게 진행되는지 알려줘.\n",
      "('question_type', <QuestionType.GAME_PREDICTION: 'game_prediction'>)\n",
      "('context', '비 오는 날 경기는 일반적으로 미끄러운 필드와 시야 저하로 인해 선수들의 경기력이 영향을 받을 수 있습니다. 또한, 경기가 지연되거나 취소될 수도 있습니다.')\n",
      "\n"
     ]
    }
   ],
   "source": [
    "for i, ans in enumerate(response):\n",
    "    print(question_list[i]['question'])\n",
    "    for _, v in enumerate(ans):\n",
    "        if v[1] != None:\n",
    "            print(v)\n",
    "    print()"
   ]
  },
  {
   "cell_type": "code",
   "execution_count": null,
   "metadata": {},
   "outputs": [],
   "source": [
    "# chain 을 실행하고 결과를 출력합니다.\n",
    "response = chain.batch(\n",
    "    [\n",
    "        {\"question\": \"a팀하고 b팀이 언제 다시 붙어?\"},\n",
    "        {\"question\": \"오늘 경기 결과를 예측해줘\"},\n",
    "        {\"question\": \"오늘 LG 트윈스와 두산 베어스의 경기 결과를 예측해줘.\"},\n",
    "        {\"question\": \"이번 한국시리즈 우승 가능성이 가장 높은 팀은 어디야?\"},\n",
    "        {\"question\": \"이번 시즌에서 가장 타율이 높은 선수는 누구야\"},\n",
    "        {\"question\": \"최정 이번시즌 홈런 몇 개 쳤어?\"},\n",
    "        {\"question\": \"한화의 다음 경기는 언제야?\"},\n",
    "        {\"question\": \"오늘 두산 선발투수 누구야?\"},\n",
    "        {\"question\": \"최근 5경기 동안 SSG 랜더스의 성적이 어땠어?\"},\n",
    "        {\"question\": \"어제 경기에서 키움 히어로즈의 주요 하이라이트는 뭐였어?\"},\n",
    "        {\"question\": \"비 오는 날 경기가 어떻게 진행되는지 알려줘.\"},\n",
    "    ]\n",
    ")"
   ]
  }
 ],
 "metadata": {
  "kernelspec": {
   "display_name": "langchain-test",
   "language": "python",
   "name": "python3"
  },
  "language_info": {
   "codemirror_mode": {
    "name": "ipython",
    "version": 3
   },
   "file_extension": ".py",
   "mimetype": "text/x-python",
   "name": "python",
   "nbconvert_exporter": "python",
   "pygments_lexer": "ipython3",
   "version": "3.11.11"
  }
 },
 "nbformat": 4,
 "nbformat_minor": 2
}
