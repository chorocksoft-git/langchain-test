{
 "cells": [
  {
   "cell_type": "markdown",
   "metadata": {},
   "source": [
    "# db 연동 테스트"
   ]
  },
  {
   "cell_type": "code",
   "execution_count": 10,
   "metadata": {},
   "outputs": [
    {
     "name": "stdout",
     "output_type": "stream",
     "text": [
      "LangSmith 추적을 시작합니다.\n",
      "[프로젝트명]\n",
      "SAI-db\n"
     ]
    }
   ],
   "source": [
    "from dotenv import load_dotenv\n",
    "import logging_chorock\n",
    "load_dotenv()\n",
    "\n",
    "logging_chorock.langsmith(\"SAI-db\")"
   ]
  },
  {
   "cell_type": "code",
   "execution_count": 5,
   "metadata": {},
   "outputs": [],
   "source": [
    "import sqlite3\n",
    "\n",
    "# 데이터베이스 연결\n",
    "conn = sqlite3.connect('db.sqlite3')\n",
    "cursor = conn.cursor()\n",
    "\n",
    "# 테이블 정보 가져오기\n",
    "cursor.execute(\"SELECT name FROM sqlite_master WHERE type='table';\")\n",
    "tables = cursor.fetchall()\n",
    "\n",
    "# 각 테이블의 컬럼 정보 가져오기\n",
    "table_info = {}\n",
    "for table in tables:\n",
    "    table_name = table[0]\n",
    "    cursor.execute(f\"PRAGMA table_info({table_name});\")\n",
    "    columns = cursor.fetchall()\n",
    "    table_info[table_name] = [(column[1], column[2]) for column in columns]\n",
    "\n",
    "# 연결 종료\n",
    "conn.close()"
   ]
  },
  {
   "cell_type": "code",
   "execution_count": 6,
   "metadata": {},
   "outputs": [
    {
     "data": {
      "text/plain": [
       "{'baseball_game_info': [('game_info_idx', 'INTEGER'),\n",
       "  ('game_id', 'VARCHAR(255)'),\n",
       "  ('regist_time', 'DATETIME'),\n",
       "  ('game_status', 'INTEGER'),\n",
       "  ('game_date_time', 'DATETIME'),\n",
       "  ('home_team', 'VARCHAR(255)'),\n",
       "  ('away_team', 'VARCHAR(255)'),\n",
       "  ('home_score', 'INTEGER'),\n",
       "  ('away_score', 'INTEGER'),\n",
       "  ('score_difference', 'INTEGER'),\n",
       "  ('home_hits', 'FLOAT'),\n",
       "  ('home_bb', 'FLOAT'),\n",
       "  ('home_homeruns', 'FLOAT'),\n",
       "  ('home_stolenbases', 'FLOAT'),\n",
       "  ('home_strikeouts', 'FLOAT'),\n",
       "  ('home_doubleplays', 'FLOAT'),\n",
       "  ('home_errors', 'FLOAT'),\n",
       "  ('away_hits', 'FLOAT'),\n",
       "  ('away_bb', 'FLOAT'),\n",
       "  ('away_homeruns', 'FLOAT'),\n",
       "  ('away_stolenbases', 'FLOAT'),\n",
       "  ('away_strikeouts', 'FLOAT'),\n",
       "  ('away_doubleplays', 'FLOAT'),\n",
       "  ('away_errors', 'FLOAT'),\n",
       "  ('home_pitching', 'FLOAT'),\n",
       "  ('away_pitching', 'FLOAT'),\n",
       "  ('win', 'INTEGER'),\n",
       "  ('win_rate', 'FLOAT'),\n",
       "  ('round', 'VARCHAR(255)'),\n",
       "  ('category_name', 'VARCHAR(255)')],\n",
       " 'wfootball_game_info': [('game_info_idx', 'INTEGER'),\n",
       "  ('game_id', 'VARCHAR(255)'),\n",
       "  ('regist_time', 'DATETIME'),\n",
       "  ('game_date_time', 'DATETIME'),\n",
       "  ('home_team', 'VARCHAR(255)'),\n",
       "  ('away_team', 'VARCHAR(255)'),\n",
       "  ('home_score', 'INTEGER'),\n",
       "  ('away_score', 'INTEGER'),\n",
       "  ('score_difference', 'INTEGER'),\n",
       "  ('home_ball_possession', 'FLOAT'),\n",
       "  ('home_booking', 'INTEGER'),\n",
       "  ('home_corner', 'INTEGER'),\n",
       "  ('home_dismissal', 'INTEGER'),\n",
       "  ('home_foul', 'INTEGER'),\n",
       "  ('home_free_kick', 'INTEGER'),\n",
       "  ('home_goalkeeper_saves', 'INTEGER'),\n",
       "  ('home_goal_kick', 'INTEGER'),\n",
       "  ('home_offside', 'INTEGER'),\n",
       "  ('home_shot', 'INTEGER'),\n",
       "  ('home_shots_off_goal', 'INTEGER'),\n",
       "  ('home_shots_on_goal', 'INTEGER'),\n",
       "  ('home_substitute', 'INTEGER'),\n",
       "  ('home_throw_in', 'INTEGER'),\n",
       "  ('away_ball_possession', 'FLOAT'),\n",
       "  ('away_booking', 'INTEGER'),\n",
       "  ('away_corner', 'INTEGER'),\n",
       "  ('away_dismissal', 'INTEGER'),\n",
       "  ('away_foul', 'INTEGER'),\n",
       "  ('away_free_kick', 'INTEGER'),\n",
       "  ('away_goalkeeper_saves', 'INTEGER'),\n",
       "  ('away_goal_kick', 'INTEGER'),\n",
       "  ('away_offside', 'INTEGER'),\n",
       "  ('away_shot', 'INTEGER'),\n",
       "  ('away_shots_off_goal', 'INTEGER'),\n",
       "  ('away_shots_on_goal', 'INTEGER'),\n",
       "  ('away_substitute', 'INTEGER'),\n",
       "  ('away_throw_in', 'INTEGER'),\n",
       "  ('win', 'INTEGER'),\n",
       "  ('round', 'VARCHAR(255)'),\n",
       "  ('game_status', 'INTEGER'),\n",
       "  ('win_rate', 'FLOAT')]}"
      ]
     },
     "execution_count": 6,
     "metadata": {},
     "output_type": "execute_result"
    }
   ],
   "source": [
    "table_info"
   ]
  }
 ],
 "metadata": {
  "kernelspec": {
   "display_name": "langchain-test",
   "language": "python",
   "name": "python3"
  },
  "language_info": {
   "codemirror_mode": {
    "name": "ipython",
    "version": 3
   },
   "file_extension": ".py",
   "mimetype": "text/x-python",
   "name": "python",
   "nbconvert_exporter": "python",
   "pygments_lexer": "ipython3",
   "version": "3.11.11"
  }
 },
 "nbformat": 4,
 "nbformat_minor": 2
}
